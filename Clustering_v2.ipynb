{
 "cells": [
  {
   "cell_type": "code",
   "execution_count": 42,
   "metadata": {},
   "outputs": [],
   "source": [
    "#Import libraries\n",
    "import numpy as np\n",
    "import pandas as pd\n",
    "import matplotlib.pyplot as plt\n",
    "import seaborn as sns\n",
    "from sklearn.preprocessing import LabelEncoder\n",
    "from sklearn.preprocessing import MinMaxScaler\n",
    "from sklearn.cluster import KMeans\n",
    "from sklearn.metrics import silhouette_score\n",
    "%matplotlib inline\n",
    "#Ignore Warnings\n",
    "import warnings\n",
    "warnings.filterwarnings('ignore')\n",
    "\n"
   ]
  },
  {
   "cell_type": "code",
   "execution_count": 43,
   "metadata": {},
   "outputs": [
    {
     "data": {
      "text/html": [
       "<div>\n",
       "<style scoped>\n",
       "    .dataframe tbody tr th:only-of-type {\n",
       "        vertical-align: middle;\n",
       "    }\n",
       "\n",
       "    .dataframe tbody tr th {\n",
       "        vertical-align: top;\n",
       "    }\n",
       "\n",
       "    .dataframe thead th {\n",
       "        text-align: right;\n",
       "    }\n",
       "</style>\n",
       "<table border=\"1\" class=\"dataframe\">\n",
       "  <thead>\n",
       "    <tr style=\"text-align: right;\">\n",
       "      <th></th>\n",
       "      <th>SAN</th>\n",
       "      <th>nbr</th>\n",
       "      <th>Sizekb</th>\n",
       "    </tr>\n",
       "  </thead>\n",
       "  <tbody>\n",
       "    <tr>\n",
       "      <th>0</th>\n",
       "      <td>erpprod</td>\n",
       "      <td>10106.0</td>\n",
       "      <td>17.70</td>\n",
       "    </tr>\n",
       "    <tr>\n",
       "      <th>1</th>\n",
       "      <td>CBEMMS</td>\n",
       "      <td>1738.0</td>\n",
       "      <td>6.27</td>\n",
       "    </tr>\n",
       "    <tr>\n",
       "      <th>2</th>\n",
       "      <td>YonatanMedhane</td>\n",
       "      <td>468.0</td>\n",
       "      <td>138.01</td>\n",
       "    </tr>\n",
       "    <tr>\n",
       "      <th>3</th>\n",
       "      <td>BAYOUTILAHUN</td>\n",
       "      <td>277.0</td>\n",
       "      <td>143.71</td>\n",
       "    </tr>\n",
       "    <tr>\n",
       "      <th>4</th>\n",
       "      <td>BiniyamZewdu</td>\n",
       "      <td>270.0</td>\n",
       "      <td>191.88</td>\n",
       "    </tr>\n",
       "  </tbody>\n",
       "</table>\n",
       "</div>"
      ],
      "text/plain": [
       "              SAN      nbr  Sizekb\n",
       "0         erpprod  10106.0   17.70\n",
       "1          CBEMMS   1738.0    6.27\n",
       "2  YonatanMedhane    468.0  138.01\n",
       "3    BAYOUTILAHUN    277.0  143.71\n",
       "4    BiniyamZewdu    270.0  191.88"
      ]
     },
     "execution_count": 43,
     "metadata": {},
     "output_type": "execute_result"
    }
   ],
   "source": [
    "\n",
    "#Import Data\n",
    "data = 'C:\\MCS\\Clustering\\mail.csv'\n",
    "df = pd.read_csv(data)\n",
    "# shape of data\n",
    "df.shape\n",
    "#Head of data\n",
    "df.head()\n"
   ]
  },
  {
   "cell_type": "code",
   "execution_count": 49,
   "metadata": {},
   "outputs": [
    {
     "name": "stdout",
     "output_type": "stream",
     "text": [
      "<class 'pandas.core.frame.DataFrame'>\n",
      "RangeIndex: 40313 entries, 0 to 40312\n",
      "Data columns (total 3 columns):\n",
      " #   Column  Non-Null Count  Dtype  \n",
      "---  ------  --------------  -----  \n",
      " 0   SAN     40136 non-null  object \n",
      " 1   nbr     32735 non-null  float64\n",
      " 2   Sizekb  32734 non-null  float64\n",
      "dtypes: float64(2), object(1)\n",
      "memory usage: 945.0+ KB\n"
     ]
    }
   ],
   "source": [
    "df.info()\n"
   ]
  },
  {
   "cell_type": "code",
   "execution_count": 52,
   "metadata": {},
   "outputs": [
    {
     "name": "stdout",
     "output_type": "stream",
     "text": [
      "<class 'pandas.core.frame.DataFrame'>\n",
      "Int64Index: 32558 entries, 0 to 32699\n",
      "Data columns (total 3 columns):\n",
      " #   Column  Non-Null Count  Dtype  \n",
      "---  ------  --------------  -----  \n",
      " 0   SAN     32558 non-null  object \n",
      " 1   nbr     32558 non-null  float64\n",
      " 2   Sizekb  32558 non-null  float64\n",
      "dtypes: float64(2), object(1)\n",
      "memory usage: 1017.4+ KB\n"
     ]
    }
   ],
   "source": [
    "#Drop the rows where at least one element is missing.\n",
    "df.dropna(inplace=True)\n",
    "df.info()"
   ]
  },
  {
   "cell_type": "code",
   "execution_count": 53,
   "metadata": {},
   "outputs": [
    {
     "data": {
      "text/plain": [
       "SAN       0\n",
       "nbr       0\n",
       "Sizekb    0\n",
       "dtype: int64"
      ]
     },
     "execution_count": 53,
     "metadata": {},
     "output_type": "execute_result"
    }
   ],
   "source": [
    "df.isnull().sum()\n"
   ]
  },
  {
   "cell_type": "code",
   "execution_count": 54,
   "metadata": {},
   "outputs": [
    {
     "name": "stdout",
     "output_type": "stream",
     "text": [
      "<class 'pandas.core.frame.DataFrame'>\n",
      "Int64Index: 32558 entries, 0 to 32699\n",
      "Data columns (total 3 columns):\n",
      " #   Column  Non-Null Count  Dtype  \n",
      "---  ------  --------------  -----  \n",
      " 0   SAN     32558 non-null  object \n",
      " 1   nbr     32558 non-null  float64\n",
      " 2   Sizekb  32558 non-null  float64\n",
      "dtypes: float64(2), object(1)\n",
      "memory usage: 1017.4+ KB\n"
     ]
    },
    {
     "data": {
      "text/html": [
       "<div>\n",
       "<style scoped>\n",
       "    .dataframe tbody tr th:only-of-type {\n",
       "        vertical-align: middle;\n",
       "    }\n",
       "\n",
       "    .dataframe tbody tr th {\n",
       "        vertical-align: top;\n",
       "    }\n",
       "\n",
       "    .dataframe thead th {\n",
       "        text-align: right;\n",
       "    }\n",
       "</style>\n",
       "<table border=\"1\" class=\"dataframe\">\n",
       "  <thead>\n",
       "    <tr style=\"text-align: right;\">\n",
       "      <th></th>\n",
       "      <th>SAN</th>\n",
       "      <th>nbr</th>\n",
       "      <th>Sizekb</th>\n",
       "    </tr>\n",
       "  </thead>\n",
       "  <tbody>\n",
       "    <tr>\n",
       "      <th>0</th>\n",
       "      <td>erpprod</td>\n",
       "      <td>10106.0</td>\n",
       "      <td>17.70</td>\n",
       "    </tr>\n",
       "    <tr>\n",
       "      <th>1</th>\n",
       "      <td>CBEMMS</td>\n",
       "      <td>1738.0</td>\n",
       "      <td>6.27</td>\n",
       "    </tr>\n",
       "    <tr>\n",
       "      <th>2</th>\n",
       "      <td>YonatanMedhane</td>\n",
       "      <td>468.0</td>\n",
       "      <td>138.01</td>\n",
       "    </tr>\n",
       "    <tr>\n",
       "      <th>3</th>\n",
       "      <td>BAYOUTILAHUN</td>\n",
       "      <td>277.0</td>\n",
       "      <td>143.71</td>\n",
       "    </tr>\n",
       "    <tr>\n",
       "      <th>4</th>\n",
       "      <td>BiniyamZewdu</td>\n",
       "      <td>270.0</td>\n",
       "      <td>191.88</td>\n",
       "    </tr>\n",
       "  </tbody>\n",
       "</table>\n",
       "</div>"
      ],
      "text/plain": [
       "              SAN      nbr  Sizekb\n",
       "0         erpprod  10106.0   17.70\n",
       "1          CBEMMS   1738.0    6.27\n",
       "2  YonatanMedhane    468.0  138.01\n",
       "3    BAYOUTILAHUN    277.0  143.71\n",
       "4    BiniyamZewdu    270.0  191.88"
      ]
     },
     "execution_count": 54,
     "metadata": {},
     "output_type": "execute_result"
    }
   ],
   "source": [
    "#Drop Columns\n",
    "#df.drop(['Column1', 'Column2', 'Column3', 'Column4'], axis=1, inplace=True)\n",
    "#Declare feature vector and target variable\n",
    "X = df\n",
    "#yorg = df['status_type']\n",
    "# Convert categorical variable into integers\n",
    "le = LabelEncoder()\n",
    "#X['status_type'] = le.fit_transform(X['status_type'])\n",
    "#yorg = le.transform(yorg)\n",
    "#View the summary of X\n",
    "X.info()\n",
    "X.head()\n"
   ]
  },
  {
   "cell_type": "code",
   "execution_count": 55,
   "metadata": {},
   "outputs": [
    {
     "name": "stdout",
     "output_type": "stream",
     "text": [
      "Index(['SAN', 'nbr', 'Sizekb'], dtype='object')\n"
     ]
    },
    {
     "data": {
      "text/html": [
       "<div>\n",
       "<style scoped>\n",
       "    .dataframe tbody tr th:only-of-type {\n",
       "        vertical-align: middle;\n",
       "    }\n",
       "\n",
       "    .dataframe tbody tr th {\n",
       "        vertical-align: top;\n",
       "    }\n",
       "\n",
       "    .dataframe thead th {\n",
       "        text-align: right;\n",
       "    }\n",
       "</style>\n",
       "<table border=\"1\" class=\"dataframe\">\n",
       "  <thead>\n",
       "    <tr style=\"text-align: right;\">\n",
       "      <th></th>\n",
       "      <th>SAN</th>\n",
       "      <th>nbr</th>\n",
       "      <th>Sizekb</th>\n",
       "    </tr>\n",
       "  </thead>\n",
       "  <tbody>\n",
       "    <tr>\n",
       "      <th>0</th>\n",
       "      <td>erpprod</td>\n",
       "      <td>10106.0</td>\n",
       "      <td>17.70</td>\n",
       "    </tr>\n",
       "    <tr>\n",
       "      <th>1</th>\n",
       "      <td>CBEMMS</td>\n",
       "      <td>1738.0</td>\n",
       "      <td>6.27</td>\n",
       "    </tr>\n",
       "    <tr>\n",
       "      <th>2</th>\n",
       "      <td>YonatanMedhane</td>\n",
       "      <td>468.0</td>\n",
       "      <td>138.01</td>\n",
       "    </tr>\n",
       "    <tr>\n",
       "      <th>3</th>\n",
       "      <td>BAYOUTILAHUN</td>\n",
       "      <td>277.0</td>\n",
       "      <td>143.71</td>\n",
       "    </tr>\n",
       "    <tr>\n",
       "      <th>4</th>\n",
       "      <td>BiniyamZewdu</td>\n",
       "      <td>270.0</td>\n",
       "      <td>191.88</td>\n",
       "    </tr>\n",
       "  </tbody>\n",
       "</table>\n",
       "</div>"
      ],
      "text/plain": [
       "              SAN      nbr  Sizekb\n",
       "0         erpprod  10106.0   17.70\n",
       "1          CBEMMS   1738.0    6.27\n",
       "2  YonatanMedhane    468.0  138.01\n",
       "3    BAYOUTILAHUN    277.0  143.71\n",
       "4    BiniyamZewdu    270.0  191.88"
      ]
     },
     "execution_count": 55,
     "metadata": {},
     "output_type": "execute_result"
    }
   ],
   "source": [
    "\n",
    "#Feature Scaling\n",
    "cols = X.columns\n",
    "ORGdf=df.copy()\n",
    "print( cols)\n",
    "ORGdf.head()"
   ]
  },
  {
   "cell_type": "code",
   "execution_count": 56,
   "metadata": {},
   "outputs": [
    {
     "data": {
      "text/html": [
       "<div>\n",
       "<style scoped>\n",
       "    .dataframe tbody tr th:only-of-type {\n",
       "        vertical-align: middle;\n",
       "    }\n",
       "\n",
       "    .dataframe tbody tr th {\n",
       "        vertical-align: top;\n",
       "    }\n",
       "\n",
       "    .dataframe thead th {\n",
       "        text-align: right;\n",
       "    }\n",
       "</style>\n",
       "<table border=\"1\" class=\"dataframe\">\n",
       "  <thead>\n",
       "    <tr style=\"text-align: right;\">\n",
       "      <th></th>\n",
       "      <th>nbr</th>\n",
       "      <th>Sizekb</th>\n",
       "    </tr>\n",
       "  </thead>\n",
       "  <tbody>\n",
       "    <tr>\n",
       "      <th>0</th>\n",
       "      <td>10106.0</td>\n",
       "      <td>17.70</td>\n",
       "    </tr>\n",
       "    <tr>\n",
       "      <th>1</th>\n",
       "      <td>1738.0</td>\n",
       "      <td>6.27</td>\n",
       "    </tr>\n",
       "    <tr>\n",
       "      <th>2</th>\n",
       "      <td>468.0</td>\n",
       "      <td>138.01</td>\n",
       "    </tr>\n",
       "    <tr>\n",
       "      <th>3</th>\n",
       "      <td>277.0</td>\n",
       "      <td>143.71</td>\n",
       "    </tr>\n",
       "    <tr>\n",
       "      <th>4</th>\n",
       "      <td>270.0</td>\n",
       "      <td>191.88</td>\n",
       "    </tr>\n",
       "  </tbody>\n",
       "</table>\n",
       "</div>"
      ],
      "text/plain": [
       "       nbr  Sizekb\n",
       "0  10106.0   17.70\n",
       "1   1738.0    6.27\n",
       "2    468.0  138.01\n",
       "3    277.0  143.71\n",
       "4    270.0  191.88"
      ]
     },
     "execution_count": 56,
     "metadata": {},
     "output_type": "execute_result"
    }
   ],
   "source": [
    "\n",
    "y = pd.DataFrame(X, columns=['nbr', 'Sizekb'])\n",
    "yid = pd.DataFrame(X, columns=['SAN'])\n",
    "y.head()\n"
   ]
  },
  {
   "cell_type": "code",
   "execution_count": 57,
   "metadata": {},
   "outputs": [
    {
     "data": {
      "text/html": [
       "<div>\n",
       "<style scoped>\n",
       "    .dataframe tbody tr th:only-of-type {\n",
       "        vertical-align: middle;\n",
       "    }\n",
       "\n",
       "    .dataframe tbody tr th {\n",
       "        vertical-align: top;\n",
       "    }\n",
       "\n",
       "    .dataframe thead th {\n",
       "        text-align: right;\n",
       "    }\n",
       "</style>\n",
       "<table border=\"1\" class=\"dataframe\">\n",
       "  <thead>\n",
       "    <tr style=\"text-align: right;\">\n",
       "      <th></th>\n",
       "      <th>nbr</th>\n",
       "      <th>Sizekb</th>\n",
       "    </tr>\n",
       "  </thead>\n",
       "  <tbody>\n",
       "    <tr>\n",
       "      <th>0</th>\n",
       "      <td>1.000000</td>\n",
       "      <td>0.001341</td>\n",
       "    </tr>\n",
       "    <tr>\n",
       "      <th>1</th>\n",
       "      <td>0.171895</td>\n",
       "      <td>0.000475</td>\n",
       "    </tr>\n",
       "    <tr>\n",
       "      <th>2</th>\n",
       "      <td>0.046215</td>\n",
       "      <td>0.010454</td>\n",
       "    </tr>\n",
       "    <tr>\n",
       "      <th>3</th>\n",
       "      <td>0.027313</td>\n",
       "      <td>0.010885</td>\n",
       "    </tr>\n",
       "    <tr>\n",
       "      <th>4</th>\n",
       "      <td>0.026620</td>\n",
       "      <td>0.014534</td>\n",
       "    </tr>\n",
       "  </tbody>\n",
       "</table>\n",
       "</div>"
      ],
      "text/plain": [
       "        nbr    Sizekb\n",
       "0  1.000000  0.001341\n",
       "1  0.171895  0.000475\n",
       "2  0.046215  0.010454\n",
       "3  0.027313  0.010885\n",
       "4  0.026620  0.014534"
      ]
     },
     "execution_count": 57,
     "metadata": {},
     "output_type": "execute_result"
    }
   ],
   "source": [
    "ms = MinMaxScaler()\n",
    "y = ms.fit_transform(y)\n",
    "y = pd.DataFrame(y, columns=['nbr', 'Sizekb'])\n",
    "y.head()\n"
   ]
  },
  {
   "cell_type": "code",
   "execution_count": 33,
   "metadata": {},
   "outputs": [
    {
     "data": {
      "text/html": [
       "<div>\n",
       "<style scoped>\n",
       "    .dataframe tbody tr th:only-of-type {\n",
       "        vertical-align: middle;\n",
       "    }\n",
       "\n",
       "    .dataframe tbody tr th {\n",
       "        vertical-align: top;\n",
       "    }\n",
       "\n",
       "    .dataframe thead th {\n",
       "        text-align: right;\n",
       "    }\n",
       "</style>\n",
       "<table border=\"1\" class=\"dataframe\">\n",
       "  <thead>\n",
       "    <tr style=\"text-align: right;\">\n",
       "      <th></th>\n",
       "      <th>SAN</th>\n",
       "    </tr>\n",
       "  </thead>\n",
       "  <tbody>\n",
       "    <tr>\n",
       "      <th>0</th>\n",
       "      <td>erpprod</td>\n",
       "    </tr>\n",
       "    <tr>\n",
       "      <th>1</th>\n",
       "      <td>CBEMMS</td>\n",
       "    </tr>\n",
       "    <tr>\n",
       "      <th>2</th>\n",
       "      <td>YonatanMedhane</td>\n",
       "    </tr>\n",
       "    <tr>\n",
       "      <th>3</th>\n",
       "      <td>BAYOUTILAHUN</td>\n",
       "    </tr>\n",
       "    <tr>\n",
       "      <th>4</th>\n",
       "      <td>BiniyamZewdu</td>\n",
       "    </tr>\n",
       "  </tbody>\n",
       "</table>\n",
       "</div>"
      ],
      "text/plain": [
       "              SAN\n",
       "0         erpprod\n",
       "1          CBEMMS\n",
       "2  YonatanMedhane\n",
       "3    BAYOUTILAHUN\n",
       "4    BiniyamZewdu"
      ]
     },
     "execution_count": 33,
     "metadata": {},
     "output_type": "execute_result"
    }
   ],
   "source": [
    "yid.head()\n"
   ]
  },
  {
   "cell_type": "code",
   "execution_count": 38,
   "metadata": {},
   "outputs": [
    {
     "data": {
      "text/html": [
       "<div>\n",
       "<style scoped>\n",
       "    .dataframe tbody tr th:only-of-type {\n",
       "        vertical-align: middle;\n",
       "    }\n",
       "\n",
       "    .dataframe tbody tr th {\n",
       "        vertical-align: top;\n",
       "    }\n",
       "\n",
       "    .dataframe thead th {\n",
       "        text-align: right;\n",
       "    }\n",
       "</style>\n",
       "<table border=\"1\" class=\"dataframe\">\n",
       "  <thead>\n",
       "    <tr style=\"text-align: right;\">\n",
       "      <th></th>\n",
       "      <th>SAN</th>\n",
       "      <th>nbr</th>\n",
       "      <th>Sizekb</th>\n",
       "    </tr>\n",
       "  </thead>\n",
       "  <tbody>\n",
       "    <tr>\n",
       "      <th>0</th>\n",
       "      <td>erpprod</td>\n",
       "      <td>0.046670</td>\n",
       "      <td>0.001341</td>\n",
       "    </tr>\n",
       "    <tr>\n",
       "      <th>1</th>\n",
       "      <td>CBEMMS</td>\n",
       "      <td>0.008022</td>\n",
       "      <td>0.000475</td>\n",
       "    </tr>\n",
       "    <tr>\n",
       "      <th>2</th>\n",
       "      <td>YonatanMedhane</td>\n",
       "      <td>0.002157</td>\n",
       "      <td>0.010454</td>\n",
       "    </tr>\n",
       "    <tr>\n",
       "      <th>3</th>\n",
       "      <td>BAYOUTILAHUN</td>\n",
       "      <td>0.001275</td>\n",
       "      <td>0.010885</td>\n",
       "    </tr>\n",
       "    <tr>\n",
       "      <th>4</th>\n",
       "      <td>BiniyamZewdu</td>\n",
       "      <td>0.001242</td>\n",
       "      <td>0.014534</td>\n",
       "    </tr>\n",
       "  </tbody>\n",
       "</table>\n",
       "</div>"
      ],
      "text/plain": [
       "              SAN       nbr    Sizekb\n",
       "0         erpprod  0.046670  0.001341\n",
       "1          CBEMMS  0.008022  0.000475\n",
       "2  YonatanMedhane  0.002157  0.010454\n",
       "3    BAYOUTILAHUN  0.001275  0.010885\n",
       "4    BiniyamZewdu  0.001242  0.014534"
      ]
     },
     "execution_count": 38,
     "metadata": {},
     "output_type": "execute_result"
    }
   ],
   "source": [
    "\n",
    "#ms = MinMaxScaler()\n",
    "#X = ms.fit_transform(X)\n",
    "#X = pd.DataFrame(X, columns=[cols])\n",
    "#X.head()\n",
    "#X = pd.concat([yid, y], axis=1)\n",
    "#X.head()"
   ]
  },
  {
   "cell_type": "code",
   "execution_count": 58,
   "metadata": {},
   "outputs": [
    {
     "data": {
      "text/plain": [
       "array([[0.00047389, 0.0192156 ],\n",
       "       [0.00085953, 0.10106969]])"
      ]
     },
     "execution_count": 58,
     "metadata": {},
     "output_type": "execute_result"
    }
   ],
   "source": [
    "#K-Means model with two clusters\n",
    "kmeans = KMeans(n_clusters=2, random_state=0) \n",
    "kmeans.fit(y)\n",
    "#K-Means model parameters study\n",
    "kmeans.cluster_centers_\n"
   ]
  },
  {
   "cell_type": "code",
   "execution_count": 59,
   "metadata": {},
   "outputs": [
    {
     "data": {
      "text/plain": [
       "30.231229379197863"
      ]
     },
     "execution_count": 59,
     "metadata": {},
     "output_type": "execute_result"
    }
   ],
   "source": [
    "#Inertia should be near  0\n",
    "kmeans.inertia_\n",
    "#The lesser the model inertia, the better the model fit.\n",
    "#We can see that the model has very high inertia. So, this is not a good model fit to the data\n"
   ]
  },
  {
   "cell_type": "code",
   "execution_count": 62,
   "metadata": {},
   "outputs": [
    {
     "name": "stdout",
     "output_type": "stream",
     "text": [
      "[0 0 0 ... 0 1 0]\n"
     ]
    }
   ],
   "source": [
    "\n",
    "#Check quality of weak classification by the model\n",
    "labels = kmeans.labels_\n",
    "print(labels)\n"
   ]
  },
  {
   "cell_type": "code",
   "execution_count": 64,
   "metadata": {},
   "outputs": [],
   "source": [
    "\n",
    "# check how many of the samples were correctly labeled\n",
    "#correct_labels = sum(yorg == labels)\n",
    "#print(\"Result: %d out of %d samples were correctly labeled.\" % (correct_labels, yorg.size))\n",
    "#print('Accuracy score: {0:0.2f}'. format(correct_labels/float(yorg.size)))\n"
   ]
  },
  {
   "cell_type": "code",
   "execution_count": 82,
   "metadata": {},
   "outputs": [
    {
     "data": {
      "image/png": "[encoded data removed]",
      "text/plain": [
       "<Figure size 640x480 with 1 Axes>"
      ]
     },
     "metadata": {},
     "output_type": "display_data"
    }
   ],
   "source": [
    "\n",
    "#Use elbow method to find optimal number of clusters\n",
    "from sklearn.cluster import KMeans\n",
    "cs = []\n",
    "ni=[]\n",
    "for i in range(1, 11):\n",
    "    kmeans = KMeans(n_clusters = i, init = 'k-means++', max_iter = 300, n_init = 10, random_state = 0)\n",
    "    kmeans.fit(y)\n",
    "    cs.append(kmeans.inertia_)\n",
    "    # The number of iterations required to converge\n",
    "    ni.append(kmeans.n_iter_)\n",
    "plt.plot(range(1, 11), cs)\n",
    "plt.title('The Elbow Method')\n",
    "plt.xlabel('Number of clusters')\n",
    "plt.ylabel('CS')\n",
    "plt.show()\n",
    "\n",
    "\n"
   ]
  },
  {
   "cell_type": "code",
   "execution_count": 97,
   "metadata": {},
   "outputs": [
    {
     "name": "stdout",
     "output_type": "stream",
     "text": [
      "Inertia for K= 2 is 30.231229379197874\n",
      "Inertia for K= 4 is 10.37987622218081\n",
      "Inertia for K= 6 is 5.403863866079367\n",
      "Inertia for K= 68is 3.3595978593313003\n"
     ]
    }
   ],
   "source": [
    "#Show Inertia for each K\n",
    "np.set_printoptions(threshold=20)\n",
    "#K=2\n",
    "print(\"Inertia for K= 2 is\" ,cs[1])\n",
    "#K=4\n",
    "print(\"Inertia for K= 4 is\" ,cs[3])\n",
    "#K=6\n",
    "print(\"Inertia for K= 6 is\" ,cs[5])\n",
    "#K=8\n",
    "print(\"Inertia for K= 8 is\" ,cs[7])"
   ]
  },
  {
   "cell_type": "code",
   "execution_count": 84,
   "metadata": {},
   "outputs": [
    {
     "name": "stdout",
     "output_type": "stream",
     "text": [
      "[2, 11, 19, 24, 9, 10, 13, 8, 24, 4]\n"
     ]
    }
   ],
   "source": [
    "#Show Number of iteration max is 300\n",
    "np.set_printoptions(threshold=20)\n",
    "print(ni)"
   ]
  },
  {
   "cell_type": "code",
   "execution_count": 102,
   "metadata": {},
   "outputs": [
    {
     "data": {
      "image/png": "[encoded data removed]",
      "text/plain": [
       "<Figure size 640x480 with 1 Axes>"
      ]
     },
     "metadata": {},
     "output_type": "display_data"
    }
   ],
   "source": [
    "#The silhouette coefficient \n",
    "# A list holds the silhouette coefficients for each k\n",
    "kmeans_kwargs = {\n",
    "     \"init\": \"random\",\n",
    "     \"n_init\": 10,\n",
    "     \"max_iter\": 300,\n",
    "     \"random_state\": 42,\n",
    " }\n",
    "silhouette_coefficients = []\n",
    "from sklearn.metrics import silhouette_score\n",
    " # Notice you start at 2 clusters for silhouette coefficient\n",
    "for k in range(2, 11):\n",
    "     kmeans = KMeans(n_clusters=k, **kmeans_kwargs)\n",
    "     kmeans.fit(y)\n",
    "     score = silhouette_score(y, kmeans.labels_)\n",
    "     silhouette_coefficients.append(score)\n",
    "plt.style.use(\"fivethirtyeight\")\n",
    "plt.plot(range(2, 11), silhouette_coefficients)\n",
    "plt.xticks(range(2, 11))\n",
    "plt.xlabel(\"Number of Clusters\")\n",
    "plt.ylabel(\"Silhouette Coefficient\")\n",
    "plt.show()"
   ]
  },
  {
   "cell_type": "code",
   "execution_count": 105,
   "metadata": {},
   "outputs": [
    {
     "data": {
      "text/plain": [
       "array([[0.0003293 , 0.01194384],\n",
       "       [0.00081079, 0.12687466],\n",
       "       [0.00040026, 0.27194733],\n",
       "       [0.00098093, 0.05790523]])"
      ]
     },
     "execution_count": 105,
     "metadata": {},
     "output_type": "execute_result"
    }
   ],
   "source": [
    "#K-Means model with 4 clusters based on the 2 plots above\n",
    "kmeans = KMeans(n_clusters=4, random_state=0) \n",
    "kmeans.fit(y)\n",
    "#K-Means model parameters study\n",
    "kmeans.cluster_centers_"
   ]
  },
  {
   "cell_type": "code",
   "execution_count": 113,
   "metadata": {},
   "outputs": [
    {
     "data": {
      "text/html": [
       "<div>\n",
       "<style scoped>\n",
       "    .dataframe tbody tr th:only-of-type {\n",
       "        vertical-align: middle;\n",
       "    }\n",
       "\n",
       "    .dataframe tbody tr th {\n",
       "        vertical-align: top;\n",
       "    }\n",
       "\n",
       "    .dataframe thead th {\n",
       "        text-align: right;\n",
       "    }\n",
       "</style>\n",
       "<table border=\"1\" class=\"dataframe\">\n",
       "  <thead>\n",
       "    <tr style=\"text-align: right;\">\n",
       "      <th></th>\n",
       "      <th>Nbr_Emails</th>\n",
       "      <th>SizeKB</th>\n",
       "    </tr>\n",
       "  </thead>\n",
       "  <tbody>\n",
       "    <tr>\n",
       "      <th>0</th>\n",
       "      <td>4.327544</td>\n",
       "      <td>157.682517</td>\n",
       "    </tr>\n",
       "    <tr>\n",
       "      <th>1</th>\n",
       "      <td>9.193069</td>\n",
       "      <td>1674.999298</td>\n",
       "    </tr>\n",
       "    <tr>\n",
       "      <th>2</th>\n",
       "      <td>5.044619</td>\n",
       "      <td>3590.248714</td>\n",
       "    </tr>\n",
       "    <tr>\n",
       "      <th>3</th>\n",
       "      <td>10.912253</td>\n",
       "      <td>764.464784</td>\n",
       "    </tr>\n",
       "  </tbody>\n",
       "</table>\n",
       "</div>"
      ],
      "text/plain": [
       "   Nbr_Emails       SizeKB\n",
       "0    4.327544   157.682517\n",
       "1    9.193069  1674.999298\n",
       "2    5.044619  3590.248714\n",
       "3   10.912253   764.464784"
      ]
     },
     "execution_count": 113,
     "metadata": {},
     "output_type": "execute_result"
    }
   ],
   "source": [
    "#Centroides\n",
    "Centroides = kmeans.cluster_centers_\n",
    "Centroides =pd.DataFrame(Centroides, columns=['Nbr_Emails','SizeKB'])\n",
    "#Centroides .info()\n",
    "Centroides = ms.inverse_transform(Centroides)\n",
    "Centroides =pd.DataFrame(Centroides, columns=['Nbr_Emails','SizeKB'])\n",
    "Centroides"
   ]
  },
  {
   "cell_type": "code",
   "execution_count": 117,
   "metadata": {},
   "outputs": [
    {
     "name": "stdout",
     "output_type": "stream",
     "text": [
      "<class 'pandas.core.frame.DataFrame'>\n",
      "RangeIndex: 32558 entries, 0 to 32557\n",
      "Data columns (total 1 columns):\n",
      " #   Column   Non-Null Count  Dtype\n",
      "---  ------   --------------  -----\n",
      " 0   Profile  32558 non-null  int32\n",
      "dtypes: int32(1)\n",
      "memory usage: 127.3 KB\n"
     ]
    }
   ],
   "source": [
    "#labels generated\n",
    "labels = kmeans.labels_\n",
    "Profiles=pd.DataFrame(labels, columns=['Profile'])\n",
    "Profiles.info()\n",
    "#Profiles.describe()"
   ]
  },
  {
   "cell_type": "code",
   "execution_count": 125,
   "metadata": {},
   "outputs": [
    {
     "name": "stdout",
     "output_type": "stream",
     "text": [
      "<class 'pandas.core.frame.DataFrame'>\n",
      "Int64Index: 32700 entries, 0 to 23617\n",
      "Data columns (total 5 columns):\n",
      " #   Column   Non-Null Count  Dtype  \n",
      "---  ------   --------------  -----  \n",
      " 0   SAN      32558 non-null  object \n",
      " 1   nbr      32558 non-null  float64\n",
      " 2   Sizekb   32558 non-null  float64\n",
      " 3   Profile  32558 non-null  float64\n",
      " 4   Profile  32558 non-null  float64\n",
      "dtypes: float64(4), object(1)\n",
      "memory usage: 1.5+ MB\n",
      "<class 'pandas.core.frame.DataFrame'>\n",
      "RangeIndex: 32558 entries, 0 to 32557\n",
      "Data columns (total 1 columns):\n",
      " #   Column   Non-Null Count  Dtype\n",
      "---  ------   --------------  -----\n",
      " 0   Profile  32558 non-null  int32\n",
      "dtypes: int32(1)\n",
      "memory usage: 127.3 KB\n",
      "<class 'pandas.core.frame.DataFrame'>\n",
      "Int64Index: 32700 entries, 0 to 23617\n",
      "Data columns (total 6 columns):\n",
      " #   Column   Non-Null Count  Dtype  \n",
      "---  ------   --------------  -----  \n",
      " 0   SAN      32558 non-null  object \n",
      " 1   nbr      32558 non-null  float64\n",
      " 2   Sizekb   32558 non-null  float64\n",
      " 3   Profile  32558 non-null  float64\n",
      " 4   Profile  32558 non-null  float64\n",
      " 5   Profile  32558 non-null  float64\n",
      "dtypes: float64(5), object(1)\n",
      "memory usage: 1.7+ MB\n"
     ]
    },
    {
     "data": {
      "text/html": [
       "<div>\n",
       "<style scoped>\n",
       "    .dataframe tbody tr th:only-of-type {\n",
       "        vertical-align: middle;\n",
       "    }\n",
       "\n",
       "    .dataframe tbody tr th {\n",
       "        vertical-align: top;\n",
       "    }\n",
       "\n",
       "    .dataframe thead th {\n",
       "        text-align: right;\n",
       "    }\n",
       "</style>\n",
       "<table border=\"1\" class=\"dataframe\">\n",
       "  <thead>\n",
       "    <tr style=\"text-align: right;\">\n",
       "      <th></th>\n",
       "      <th>SAN</th>\n",
       "      <th>nbr</th>\n",
       "      <th>Sizekb</th>\n",
       "      <th>Profile</th>\n",
       "      <th>Profile</th>\n",
       "      <th>Profile</th>\n",
       "    </tr>\n",
       "  </thead>\n",
       "  <tbody>\n",
       "    <tr>\n",
       "      <th>0</th>\n",
       "      <td>erpprod</td>\n",
       "      <td>10106.0</td>\n",
       "      <td>17.70</td>\n",
       "      <td>0.0</td>\n",
       "      <td>0.0</td>\n",
       "      <td>0.0</td>\n",
       "    </tr>\n",
       "    <tr>\n",
       "      <th>1</th>\n",
       "      <td>CBEMMS</td>\n",
       "      <td>1738.0</td>\n",
       "      <td>6.27</td>\n",
       "      <td>0.0</td>\n",
       "      <td>0.0</td>\n",
       "      <td>0.0</td>\n",
       "    </tr>\n",
       "    <tr>\n",
       "      <th>2</th>\n",
       "      <td>YonatanMedhane</td>\n",
       "      <td>468.0</td>\n",
       "      <td>138.01</td>\n",
       "      <td>0.0</td>\n",
       "      <td>0.0</td>\n",
       "      <td>0.0</td>\n",
       "    </tr>\n",
       "    <tr>\n",
       "      <th>3</th>\n",
       "      <td>BAYOUTILAHUN</td>\n",
       "      <td>277.0</td>\n",
       "      <td>143.71</td>\n",
       "      <td>0.0</td>\n",
       "      <td>0.0</td>\n",
       "      <td>0.0</td>\n",
       "    </tr>\n",
       "    <tr>\n",
       "      <th>4</th>\n",
       "      <td>BiniyamZewdu</td>\n",
       "      <td>270.0</td>\n",
       "      <td>191.88</td>\n",
       "      <td>0.0</td>\n",
       "      <td>0.0</td>\n",
       "      <td>0.0</td>\n",
       "    </tr>\n",
       "  </tbody>\n",
       "</table>\n",
       "</div>"
      ],
      "text/plain": [
       "              SAN      nbr  Sizekb  Profile  Profile  Profile\n",
       "0         erpprod  10106.0   17.70      0.0      0.0      0.0\n",
       "1          CBEMMS   1738.0    6.27      0.0      0.0      0.0\n",
       "2  YonatanMedhane    468.0  138.01      0.0      0.0      0.0\n",
       "3    BAYOUTILAHUN    277.0  143.71      0.0      0.0      0.0\n",
       "4    BiniyamZewdu    270.0  191.88      0.0      0.0      0.0"
      ]
     },
     "execution_count": 125,
     "metadata": {},
     "output_type": "execute_result"
    }
   ],
   "source": [
    "ORGdf.info()\n",
    "Profiles.info()\n",
    "ORGdf = pd.concat([ORGdf,Profiles], axis=1)\n",
    "ORGdf.info()\n",
    "ORGdf.head()"
   ]
  },
  {
   "cell_type": "code",
   "execution_count": 126,
   "metadata": {},
   "outputs": [],
   "source": [
    "#Export Data\n",
    "exportedfile = 'C:\\MCS\\Clustering\\mail_exports.csv'\n",
    "ORGdf.to_csv(exportedfile)"
   ]
  }
 ],
 "metadata": {
  "kernelspec": {
   "display_name": "Python 3",
   "language": "python",
   "name": "python3"
  },
  "language_info": {
   "codemirror_mode": {
    "name": "ipython",
    "version": 3
   },
   "file_extension": ".py",
   "mimetype": "text/x-python",
   "name": "python",
   "nbconvert_exporter": "python",
   "pygments_lexer": "ipython3",
   "version": "3.10.11"
  },
  "orig_nbformat": 4
 },
 "nbformat": 4,
 "nbformat_minor": 2
}
