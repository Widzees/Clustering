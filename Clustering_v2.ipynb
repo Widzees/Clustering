{
 "cells": [
  {
   "cell_type": "code",
   "execution_count": 1,
   "metadata": {},
   "outputs": [
    {
     "ename": "ModuleNotFoundError",
     "evalue": "No module named 'numpy'",
     "output_type": "error",
     "traceback": [
      "\u001b[1;31m---------------------------------------------------------------------------\u001b[0m",
      "\u001b[1;31mModuleNotFoundError\u001b[0m                       Traceback (most recent call last)",
      "Cell \u001b[1;32mIn[1], line 2\u001b[0m\n\u001b[0;32m      1\u001b[0m \u001b[38;5;66;03m#Import libraries\u001b[39;00m\n\u001b[1;32m----> 2\u001b[0m \u001b[38;5;28;01mimport\u001b[39;00m \u001b[38;5;21;01mnumpy\u001b[39;00m \u001b[38;5;28;01mas\u001b[39;00m \u001b[38;5;21;01mnp\u001b[39;00m\n\u001b[0;32m      3\u001b[0m \u001b[38;5;28;01mimport\u001b[39;00m \u001b[38;5;21;01mpandas\u001b[39;00m \u001b[38;5;28;01mas\u001b[39;00m \u001b[38;5;21;01mpd\u001b[39;00m\n\u001b[0;32m      4\u001b[0m \u001b[38;5;28;01mimport\u001b[39;00m \u001b[38;5;21;01mmatplotlib\u001b[39;00m\u001b[38;5;21;01m.\u001b[39;00m\u001b[38;5;21;01mpyplot\u001b[39;00m \u001b[38;5;28;01mas\u001b[39;00m \u001b[38;5;21;01mplt\u001b[39;00m\n",
      "\u001b[1;31mModuleNotFoundError\u001b[0m: No module named 'numpy'"
     ]
    }
   ],
   "source": [
    "#Import libraries\n",
    "import numpy as np\n",
    "import pandas as pd\n",
    "import matplotlib.pyplot as plt\n",
    "import seaborn as sns\n",
    "from sklearn.preprocessing import LabelEncoder\n",
    "from sklearn.preprocessing import MinMaxScaler\n",
    "from sklearn.cluster import KMeans\n",
    "from sklearn.metrics import silhouette_score\n",
    "%matplotlib inline\n",
    "#Ignore Warnings\n",
    "import warnings\n",
    "warnings.filterwarnings('ignore')\n",
    "\n"
   ]
  },
  {
   "cell_type": "code",
   "execution_count": null,
   "metadata": {},
   "outputs": [],
   "source": [
    "\n",
    "#Import Data\n",
    "data = 'C:\\MCS\\github\\Clustering\\mail.csv'\n",
    "df = pd.read_csv(data)\n",
    "# shape of data\n",
    "df.shape\n",
    "#Head of data\n",
    "df.head()\n"
   ]
  },
  {
   "cell_type": "code",
   "execution_count": null,
   "metadata": {},
   "outputs": [],
   "source": [
    "df.info()\n"
   ]
  },
  {
   "cell_type": "code",
   "execution_count": null,
   "metadata": {},
   "outputs": [],
   "source": [
    "#Drop the rows where at least one element is missing.\n",
    "df.dropna(inplace=True)\n",
    "df.info()"
   ]
  },
  {
   "cell_type": "code",
   "execution_count": null,
   "metadata": {},
   "outputs": [],
   "source": [
    "df.isnull().sum()\n"
   ]
  },
  {
   "cell_type": "code",
   "execution_count": null,
   "metadata": {},
   "outputs": [],
   "source": [
    "#Drop Columns\n",
    "#df.drop(['Column1', 'Column2', 'Column3', 'Column4'], axis=1, inplace=True)\n",
    "#Declare feature vector and target variable\n",
    "X = df\n",
    "#yorg = df['status_type']\n",
    "# Convert categorical variable into integers\n",
    "le = LabelEncoder()\n",
    "#X['status_type'] = le.fit_transform(X['status_type'])\n",
    "#yorg = le.transform(yorg)\n",
    "#View the summary of X\n",
    "X.info()\n",
    "X.head()\n"
   ]
  },
  {
   "cell_type": "code",
   "execution_count": null,
   "metadata": {},
   "outputs": [],
   "source": [
    "\n",
    "#Feature Scaling\n",
    "cols = X.columns\n",
    "ORGdf=df.copy()\n",
    "print( cols)\n",
    "ORGdf.head()"
   ]
  },
  {
   "cell_type": "code",
   "execution_count": null,
   "metadata": {},
   "outputs": [],
   "source": [
    "\n",
    "y = pd.DataFrame(X, columns=['nbr', 'Sizekb'])\n",
    "yid = pd.DataFrame(X, columns=['SAN'])\n",
    "y.head()\n"
   ]
  },
  {
   "cell_type": "code",
   "execution_count": null,
   "metadata": {},
   "outputs": [],
   "source": [
    "ms = MinMaxScaler()\n",
    "y = ms.fit_transform(y)\n",
    "y = pd.DataFrame(y, columns=['nbr', 'Sizekb'])\n",
    "y.head()\n"
   ]
  },
  {
   "cell_type": "code",
   "execution_count": null,
   "metadata": {},
   "outputs": [],
   "source": [
    "yid.head()\n"
   ]
  },
  {
   "cell_type": "code",
   "execution_count": 16,
   "metadata": {},
   "outputs": [],
   "source": [
    "\n",
    "#ms = MinMaxScaler()\n",
    "#X = ms.fit_transform(X)\n",
    "#X = pd.DataFrame(X, columns=[cols])\n",
    "#X.head()\n",
    "#X = pd.concat([yid, y], axis=1)\n",
    "#X.head()"
   ]
  },
  {
   "cell_type": "code",
   "execution_count": null,
   "metadata": {},
   "outputs": [],
   "source": [
    "#K-Means model with two clusters\n",
    "kmeans = KMeans(n_clusters=2, random_state=0) \n",
    "kmeans.fit(y)\n",
    "#K-Means model parameters study\n",
    "kmeans.cluster_centers_\n"
   ]
  },
  {
   "cell_type": "code",
   "execution_count": null,
   "metadata": {},
   "outputs": [],
   "source": [
    "#Inertia should be near  0\n",
    "kmeans.inertia_\n",
    "#The lesser the model inertia, the better the model fit.\n",
    "#We can see that the model has very high inertia. So, this is not a good model fit to the data\n"
   ]
  },
  {
   "cell_type": "code",
   "execution_count": null,
   "metadata": {},
   "outputs": [],
   "source": [
    "\n",
    "#Check quality of weak classification by the model\n",
    "labels = kmeans.labels_\n",
    "print(labels)\n"
   ]
  },
  {
   "cell_type": "code",
   "execution_count": 20,
   "metadata": {},
   "outputs": [],
   "source": [
    "\n",
    "# check how many of the samples were correctly labeled\n",
    "#correct_labels = sum(yorg == labels)\n",
    "#print(\"Result: %d out of %d samples were correctly labeled.\" % (correct_labels, yorg.size))\n",
    "#print('Accuracy score: {0:0.2f}'. format(correct_labels/float(yorg.size)))\n"
   ]
  },
  {
   "cell_type": "code",
   "execution_count": null,
   "metadata": {},
   "outputs": [],
   "source": [
    "\n",
    "#Use elbow method to find optimal number of clusters\n",
    "from sklearn.cluster import KMeans\n",
    "cs = []\n",
    "ni=[]\n",
    "for i in range(1, 11):\n",
    "    kmeans = KMeans(n_clusters = i, init = 'k-means++', max_iter = 300, n_init = 10, random_state = 0)\n",
    "    kmeans.fit(y)\n",
    "    cs.append(kmeans.inertia_)\n",
    "    # The number of iterations required to converge\n",
    "    ni.append(kmeans.n_iter_)\n",
    "plt.plot(range(1, 11), cs)\n",
    "plt.title('The Elbow Method')\n",
    "plt.xlabel('Number of clusters')\n",
    "plt.ylabel('CS')\n",
    "plt.show()\n",
    "\n",
    "\n"
   ]
  },
  {
   "cell_type": "code",
   "execution_count": null,
   "metadata": {},
   "outputs": [],
   "source": [
    "#Show Inertia for each K\n",
    "np.set_printoptions(threshold=20)\n",
    "#K=2\n",
    "print(\"Inertia for K= 2 is\" ,cs[1])\n",
    "#K=4\n",
    "print(\"Inertia for K= 4 is\" ,cs[3])\n",
    "#K=6\n",
    "print(\"Inertia for K= 6 is\" ,cs[5])\n",
    "#K=8\n",
    "print(\"Inertia for K= 8 is\" ,cs[7])"
   ]
  },
  {
   "cell_type": "code",
   "execution_count": null,
   "metadata": {},
   "outputs": [],
   "source": [
    "#Show Number of iteration max is 300\n",
    "np.set_printoptions(threshold=20)\n",
    "print(ni)"
   ]
  },
  {
   "cell_type": "code",
   "execution_count": null,
   "metadata": {},
   "outputs": [],
   "source": [
    "#The silhouette coefficient \n",
    "# A list holds the silhouette coefficients for each k\n",
    "kmeans_kwargs = {\n",
    "     \"init\": \"random\",\n",
    "     \"n_init\": 10,\n",
    "     \"max_iter\": 300,\n",
    "     \"random_state\": 42,\n",
    " }\n",
    "silhouette_coefficients = []\n",
    "from sklearn.metrics import silhouette_score\n",
    " # Notice you start at 2 clusters for silhouette coefficient\n",
    "for k in range(2, 11):\n",
    "     kmeans = KMeans(n_clusters=k, **kmeans_kwargs)\n",
    "     kmeans.fit(y)\n",
    "     score = silhouette_score(y, kmeans.labels_)\n",
    "     silhouette_coefficients.append(score)\n",
    "plt.style.use(\"fivethirtyeight\")\n",
    "plt.plot(range(2, 11), silhouette_coefficients)\n",
    "plt.xticks(range(2, 11))\n",
    "plt.xlabel(\"Number of Clusters\")\n",
    "plt.ylabel(\"Silhouette Coefficient\")\n",
    "plt.show()"
   ]
  },
  {
   "cell_type": "code",
   "execution_count": null,
   "metadata": {},
   "outputs": [],
   "source": [
    "#K-Means model with 4 clusters based on the 2 plots above\n",
    "kmeans = KMeans(n_clusters=4, random_state=0) \n",
    "kmeans.fit(y)\n",
    "#K-Means model parameters study\n",
    "kmeans.cluster_centers_"
   ]
  },
  {
   "cell_type": "code",
   "execution_count": null,
   "metadata": {},
   "outputs": [],
   "source": [
    "#Centroides\n",
    "Centroides = kmeans.cluster_centers_\n",
    "Centroides =pd.DataFrame(Centroides, columns=['Nbr_Emails','SizeKB'])\n",
    "#Centroides .info()\n",
    "Centroides = ms.inverse_transform(Centroides)\n",
    "Centroides =pd.DataFrame(Centroides, columns=['Nbr_Emails','SizeKB'])\n",
    "Centroides"
   ]
  },
  {
   "cell_type": "code",
   "execution_count": null,
   "metadata": {},
   "outputs": [],
   "source": [
    "#labels generated\n",
    "labels = kmeans.labels_\n",
    "Profiles=pd.DataFrame(labels, columns=['Profile'])\n",
    "Profiles.info()\n",
    "#Profiles.describe()"
   ]
  },
  {
   "cell_type": "code",
   "execution_count": null,
   "metadata": {},
   "outputs": [],
   "source": [
    "ORGdf.info()\n",
    "Profiles.info()\n",
    "ORGdf = pd.concat([ORGdf,Profiles], axis=1)\n",
    "ORGdf.info()\n",
    "ORGdf.head()"
   ]
  },
  {
   "cell_type": "code",
   "execution_count": 29,
   "metadata": {},
   "outputs": [],
   "source": [
    "#Export Data\n",
    "exportedfile = 'C:\\MCS\\GITHUB\\Clustering\\mail_exports.csv'\n",
    "ORGdf.to_csv(exportedfile)\n",
    "exportedfile = 'C:\\MCS\\GITHUB\\Clustering\\centroides_exports.csv'\n",
    "Centroides.to_csv(exportedfile)"
   ]
  }
 ],
 "metadata": {
  "kernelspec": {
   "display_name": "Python 3",
   "language": "python",
   "name": "python3"
  },
  "language_info": {
   "codemirror_mode": {
    "name": "ipython",
    "version": 3
   },
   "file_extension": ".py",
   "mimetype": "text/x-python",
   "name": "python",
   "nbconvert_exporter": "python",
   "pygments_lexer": "ipython3",
   "version": "3.10.14"
  },
  "orig_nbformat": 4
 },
 "nbformat": 4,
 "nbformat_minor": 2
}
